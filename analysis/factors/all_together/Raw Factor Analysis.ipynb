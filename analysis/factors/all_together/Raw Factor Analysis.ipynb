{
 "cells": [
  {
   "cell_type": "code",
   "execution_count": 99,
   "id": "3fdd9693",
   "metadata": {},
   "outputs": [
    {
     "name": "stdout",
     "output_type": "stream",
     "text": [
      "Requirement already satisfied: findspark in /opt/homebrew/lib/python3.11/site-packages (2.0.1)\n",
      "Requirement already satisfied: pandas in /opt/homebrew/lib/python3.11/site-packages (2.2.3)\n",
      "Requirement already satisfied: awswrangler in /opt/homebrew/lib/python3.11/site-packages (3.9.1)\n",
      "Requirement already satisfied: numpy in /opt/homebrew/lib/python3.11/site-packages (1.26.4)\n",
      "Requirement already satisfied: matplotlib in /opt/homebrew/lib/python3.11/site-packages (3.9.2)\n",
      "Requirement already satisfied: seaborn in /opt/homebrew/lib/python3.11/site-packages (0.13.2)\n",
      "Requirement already satisfied: pyspark in /opt/homebrew/lib/python3.11/site-packages (3.5.2)\n",
      "Requirement already satisfied: python-dateutil>=2.8.2 in /Users/ax1udd9/Library/Python/3.11/lib/python/site-packages (from pandas) (2.9.0.post0)\n",
      "Requirement already satisfied: pytz>=2020.1 in /opt/homebrew/lib/python3.11/site-packages (from pandas) (2024.2)\n",
      "Requirement already satisfied: tzdata>=2022.7 in /opt/homebrew/lib/python3.11/site-packages (from pandas) (2024.1)\n",
      "Requirement already satisfied: boto3<2.0.0,>=1.20.32 in /opt/homebrew/lib/python3.11/site-packages (from awswrangler) (1.35.24)\n",
      "Requirement already satisfied: botocore<2.0.0,>=1.23.32 in /opt/homebrew/lib/python3.11/site-packages (from awswrangler) (1.35.24)\n",
      "Requirement already satisfied: packaging<25.0,>=21.1 in /Users/ax1udd9/Library/Python/3.11/lib/python/site-packages (from awswrangler) (24.1)\n",
      "Requirement already satisfied: pyarrow>=8.0.0 in /opt/homebrew/lib/python3.11/site-packages (from awswrangler) (17.0.0)\n",
      "Requirement already satisfied: typing-extensions<5.0.0,>=4.4.0 in /Users/ax1udd9/Library/Python/3.11/lib/python/site-packages (from awswrangler) (4.12.2)\n",
      "Requirement already satisfied: contourpy>=1.0.1 in /opt/homebrew/lib/python3.11/site-packages (from matplotlib) (1.3.0)\n",
      "Requirement already satisfied: cycler>=0.10 in /opt/homebrew/lib/python3.11/site-packages (from matplotlib) (0.12.1)\n",
      "Requirement already satisfied: fonttools>=4.22.0 in /opt/homebrew/lib/python3.11/site-packages (from matplotlib) (4.53.1)\n",
      "Requirement already satisfied: kiwisolver>=1.3.1 in /opt/homebrew/lib/python3.11/site-packages (from matplotlib) (1.4.7)\n",
      "Requirement already satisfied: pillow>=8 in /opt/homebrew/lib/python3.11/site-packages (from matplotlib) (10.4.0)\n",
      "Requirement already satisfied: pyparsing>=2.3.1 in /opt/homebrew/lib/python3.11/site-packages (from matplotlib) (3.1.4)\n",
      "Requirement already satisfied: py4j==0.10.9.7 in /opt/homebrew/lib/python3.11/site-packages (from pyspark) (0.10.9.7)\n",
      "Requirement already satisfied: jmespath<2.0.0,>=0.7.1 in /opt/homebrew/lib/python3.11/site-packages (from boto3<2.0.0,>=1.20.32->awswrangler) (1.0.1)\n",
      "Requirement already satisfied: s3transfer<0.11.0,>=0.10.0 in /opt/homebrew/lib/python3.11/site-packages (from boto3<2.0.0,>=1.20.32->awswrangler) (0.10.2)\n",
      "Requirement already satisfied: urllib3!=2.2.0,<3,>=1.25.4 in /Users/ax1udd9/Library/Python/3.11/lib/python/site-packages (from botocore<2.0.0,>=1.23.32->awswrangler) (2.2.3)\n",
      "Requirement already satisfied: six>=1.5 in /Users/ax1udd9/Library/Python/3.11/lib/python/site-packages (from python-dateutil>=2.8.2->pandas) (1.16.0)\n",
      "\n",
      "\u001b[1m[\u001b[0m\u001b[34;49mnotice\u001b[0m\u001b[1;39;49m]\u001b[0m\u001b[39;49m A new release of pip is available: \u001b[0m\u001b[31;49m24.1.2\u001b[0m\u001b[39;49m -> \u001b[0m\u001b[32;49m25.0.1\u001b[0m\n",
      "\u001b[1m[\u001b[0m\u001b[34;49mnotice\u001b[0m\u001b[1;39;49m]\u001b[0m\u001b[39;49m To update, run: \u001b[0m\u001b[32;49mpython3.11 -m pip install --upgrade pip\u001b[0m\n",
      "Note: you may need to restart the kernel to use updated packages.\n"
     ]
    }
   ],
   "source": [
    "pip install findspark pandas awswrangler numpy matplotlib seaborn pyspark"
   ]
  },
  {
   "cell_type": "code",
   "execution_count": 100,
   "id": "0c8790f9",
   "metadata": {},
   "outputs": [],
   "source": [
    "import findspark\n",
    "import pandas as pd\n",
    "import awswrangler as wr\n",
    "import numpy as np\n",
    "import matplotlib.pyplot as plt\n",
    "import seaborn\n",
    "import matplotlib.ticker as ticker\n",
    "import boto3\n",
    "import statistics"
   ]
  },
  {
   "cell_type": "code",
   "execution_count": null,
   "id": "597d0c1b",
   "metadata": {},
   "outputs": [],
   "source": [
    "findspark.init()\n",
    "df = pd.read_parquet('../../../generate data/datasets/general/')\n"
   ]
  },
  {
   "cell_type": "code",
   "execution_count": 102,
   "id": "48abc92a",
   "metadata": {},
   "outputs": [
    {
     "name": "stdout",
     "output_type": "stream",
     "text": [
      "Average: 0.08464636670075262\n",
      "Mode: 0.08356621888810274\n",
      "Median: 0.08422380843924135\n"
     ]
    },
    {
     "name": "stderr",
     "output_type": "stream",
     "text": [
      "/var/folders/x0/w5vkfm815t50y972318hw4880000gq/T/ipykernel_29490/1843780195.py:3: SettingWithCopyWarning: \n",
      "A value is trying to be set on a copy of a slice from a DataFrame.\n",
      "Try using .loc[row_indexer,col_indexer] = value instead\n",
      "\n",
      "See the caveats in the documentation: https://pandas.pydata.org/pandas-docs/stable/user_guide/indexing.html#returning-a-view-versus-a-copy\n",
      "  df_models[\"formula_result\"] = (df_models[\"dfQuantity\"] - df_models[\"actualQuantity\"]).abs() / df_models[\"actualQuantity\"]\n"
     ]
    }
   ],
   "source": [
    "df_models = df[df[\"partCodeId\"].str.len() == 7]\n",
    "\n",
    "df_models[\"formula_result\"] = (df_models[\"dfQuantity\"] - df_models[\"actualQuantity\"]).abs() / df_models[\"actualQuantity\"]\n",
    "# Group by the correct columns\n",
    "df_models_result = df_models.groupby([\n",
    "    \"partCodeId\",\n",
    "    \"vehicleModelId\",\n",
    "]).agg(\n",
    "    final_result=(\"formula_result\", \"mean\"),\n",
    ").reset_index()\n",
    "\n",
    "# Calculate statistics\n",
    "average = df_models_result[\"final_result\"].mean()\n",
    "mode = df_models_result[\"final_result\"].mode()[0]\n",
    "median = df_models_result[\"final_result\"].median()\n",
    "\n",
    "print(f\"Average: {average}\")\n",
    "print(f\"Mode: {mode}\")\n",
    "print(f\"Median: {median}\")\n"
   ]
  },
  {
   "cell_type": "code",
   "execution_count": 103,
   "id": "9beac189",
   "metadata": {},
   "outputs": [
    {
     "name": "stderr",
     "output_type": "stream",
     "text": [
      "/var/folders/x0/w5vkfm815t50y972318hw4880000gq/T/ipykernel_29490/2638467781.py:3: SettingWithCopyWarning: \n",
      "A value is trying to be set on a copy of a slice from a DataFrame.\n",
      "Try using .loc[row_indexer,col_indexer] = value instead\n",
      "\n",
      "See the caveats in the documentation: https://pandas.pydata.org/pandas-docs/stable/user_guide/indexing.html#returning-a-view-versus-a-copy\n",
      "  df_fullpc[\"formula_result\"] = (df_fullpc[\"dfQuantity\"] - df_fullpc[\"actualQuantity\"]).abs() / df_fullpc[\"actualQuantity\"]\n"
     ]
    },
    {
     "name": "stdout",
     "output_type": "stream",
     "text": [
      "Average: 0.4001863513141547\n",
      "Mode: 0.08327223189540794\n",
      "Median: 0.5691193502435973\n"
     ]
    }
   ],
   "source": [
    "df_fullpc = df[df[\"partCodeId\"].str.len() > 7]\n",
    "\n",
    "df_fullpc[\"formula_result\"] = (df_fullpc[\"dfQuantity\"] - df_fullpc[\"actualQuantity\"]).abs() / df_fullpc[\"actualQuantity\"]\n",
    "# Group by the correct columns\n",
    "df_fullpc_result = df_fullpc.groupby([\n",
    "    \"partCodeId\",\n",
    "    \"vehicleModelId\"\n",
    "]).agg(\n",
    "    final_result=(\"formula_result\", \"mean\"),\n",
    ").reset_index()\n",
    "\n",
    "# Calculate statistics\n",
    "average = df_fullpc_result[\"final_result\"].mean()\n",
    "mode = df_fullpc_result[\"final_result\"].mode()[0]\n",
    "median = df_fullpc_result[\"final_result\"].median()\n",
    "\n",
    "print(f\"Average: {average}\")\n",
    "print(f\"Mode: {mode}\")\n",
    "print(f\"Median: {median}\")\n"
   ]
  },
  {
   "cell_type": "code",
   "execution_count": 104,
   "id": "82fe1c64",
   "metadata": {},
   "outputs": [
    {
     "name": "stderr",
     "output_type": "stream",
     "text": [
      "/var/folders/x0/w5vkfm815t50y972318hw4880000gq/T/ipykernel_29490/2592841570.py:2: SettingWithCopyWarning: \n",
      "A value is trying to be set on a copy of a slice from a DataFrame.\n",
      "Try using .loc[row_indexer,col_indexer] = value instead\n",
      "\n",
      "See the caveats in the documentation: https://pandas.pydata.org/pandas-docs/stable/user_guide/indexing.html#returning-a-view-versus-a-copy\n",
      "  df_nocolorpc[\"partCodeId\"] = df_nocolorpc[\"partCodeId\"].str[:11]\n",
      "/var/folders/x0/w5vkfm815t50y972318hw4880000gq/T/ipykernel_29490/2592841570.py:3: SettingWithCopyWarning: \n",
      "A value is trying to be set on a copy of a slice from a DataFrame.\n",
      "Try using .loc[row_indexer,col_indexer] = value instead\n",
      "\n",
      "See the caveats in the documentation: https://pandas.pydata.org/pandas-docs/stable/user_guide/indexing.html#returning-a-view-versus-a-copy\n",
      "  df_nocolorpc[\"formula_result\"] = (df_nocolorpc[\"dfQuantity\"] - df_nocolorpc[\"actualQuantity\"]).abs() / df_nocolorpc[\"actualQuantity\"]\n"
     ]
    },
    {
     "name": "stdout",
     "output_type": "stream",
     "text": [
      "Average: 0.38258057673157103\n",
      "Mode: 0.08327223189540794\n",
      "Median: 0.37216841303706194\n"
     ]
    }
   ],
   "source": [
    "df_nocolorpc = df[df[\"partCodeId\"].str.len() > 7]\n",
    "df_nocolorpc[\"partCodeId\"] = df_nocolorpc[\"partCodeId\"].str[:11]\n",
    "df_nocolorpc[\"formula_result\"] = (df_nocolorpc[\"dfQuantity\"] - df_nocolorpc[\"actualQuantity\"]).abs() / df_nocolorpc[\"actualQuantity\"]\n",
    "# Group by the correct columns\n",
    "df_nocolorpc_result = df_nocolorpc.groupby([\n",
    "    \"partCodeId\",\n",
    "    \"vehicleModelId\"\n",
    "]).agg(\n",
    "    final_result=(\"formula_result\", \"mean\"),\n",
    ").reset_index()\n",
    "\n",
    "# Calculate statistics\n",
    "average = df_nocolorpc_result[\"final_result\"].mean()\n",
    "mode = df_nocolorpc_result[\"final_result\"].mode()[0]\n",
    "median = df_nocolorpc_result[\"final_result\"].median()\n",
    "\n",
    "print(f\"Average: {average}\")\n",
    "print(f\"Mode: {mode}\")\n",
    "print(f\"Median: {median}\")\n"
   ]
  },
  {
   "cell_type": "code",
   "execution_count": 105,
   "id": "c77184a1",
   "metadata": {},
   "outputs": [
    {
     "name": "stderr",
     "output_type": "stream",
     "text": [
      "/var/folders/x0/w5vkfm815t50y972318hw4880000gq/T/ipykernel_29490/2906707466.py:2: SettingWithCopyWarning: \n",
      "A value is trying to be set on a copy of a slice from a DataFrame.\n",
      "Try using .loc[row_indexer,col_indexer] = value instead\n",
      "\n",
      "See the caveats in the documentation: https://pandas.pydata.org/pandas-docs/stable/user_guide/indexing.html#returning-a-view-versus-a-copy\n",
      "  df_nocolornoindexpc[\"partCodeId\"] = df_nocolornoindexpc[\"partCodeId\"].str[:10]\n",
      "/var/folders/x0/w5vkfm815t50y972318hw4880000gq/T/ipykernel_29490/2906707466.py:3: SettingWithCopyWarning: \n",
      "A value is trying to be set on a copy of a slice from a DataFrame.\n",
      "Try using .loc[row_indexer,col_indexer] = value instead\n",
      "\n",
      "See the caveats in the documentation: https://pandas.pydata.org/pandas-docs/stable/user_guide/indexing.html#returning-a-view-versus-a-copy\n",
      "  df_nocolornoindexpc[\"formula_result\"] = (df_nocolornoindexpc[\"dfQuantity\"] - df_nocolornoindexpc[\"actualQuantity\"]).abs() / df_nocolornoindexpc[\"actualQuantity\"]\n"
     ]
    },
    {
     "name": "stdout",
     "output_type": "stream",
     "text": [
      "Average: 0.37960785497984567\n",
      "Mode: 0.09510526048868095\n",
      "Median: 0.39209469783971473\n"
     ]
    }
   ],
   "source": [
    "df_nocolornoindexpc = df[df[\"partCodeId\"].str.len() > 7]\n",
    "df_nocolornoindexpc[\"partCodeId\"] = df_nocolornoindexpc[\"partCodeId\"].str[:10]\n",
    "df_nocolornoindexpc[\"formula_result\"] = (df_nocolornoindexpc[\"dfQuantity\"] - df_nocolornoindexpc[\"actualQuantity\"]).abs() / df_nocolornoindexpc[\"actualQuantity\"]\n",
    "# Group by the correct columns\n",
    "df_nocolornoindexpc_result = df_nocolornoindexpc.groupby([\n",
    "    \"partCodeId\",\n",
    "    \"vehicleModelId\"\n",
    "]).agg(\n",
    "    final_result=(\"formula_result\", \"mean\"),\n",
    ").reset_index()\n",
    "\n",
    "# Calculate statistics\n",
    "average = df_nocolornoindexpc_result[\"final_result\"].mean()\n",
    "mode = df_nocolornoindexpc_result[\"final_result\"].mode()[0]\n",
    "median = df_nocolornoindexpc_result[\"final_result\"].median()\n",
    "\n",
    "print(f\"Average: {average}\")\n",
    "print(f\"Mode: {mode}\")\n",
    "print(f\"Median: {median}\")"
   ]
  },
  {
   "cell_type": "code",
   "execution_count": 106,
   "id": "a1a9f0bf",
   "metadata": {},
   "outputs": [
    {
     "name": "stderr",
     "output_type": "stream",
     "text": [
      "/var/folders/x0/w5vkfm815t50y972318hw4880000gq/T/ipykernel_29490/1674370388.py:2: SettingWithCopyWarning: \n",
      "A value is trying to be set on a copy of a slice from a DataFrame.\n",
      "Try using .loc[row_indexer,col_indexer] = value instead\n",
      "\n",
      "See the caveats in the documentation: https://pandas.pydata.org/pandas-docs/stable/user_guide/indexing.html#returning-a-view-versus-a-copy\n",
      "  df_ics[\"numberOfInstallationConditions\"] = df_ics[\"numberOfInstallationConditions\"].astype(int)\n",
      "/var/folders/x0/w5vkfm815t50y972318hw4880000gq/T/ipykernel_29490/1674370388.py:3: SettingWithCopyWarning: \n",
      "A value is trying to be set on a copy of a slice from a DataFrame.\n",
      "Try using .loc[row_indexer,col_indexer] = value instead\n",
      "\n",
      "See the caveats in the documentation: https://pandas.pydata.org/pandas-docs/stable/user_guide/indexing.html#returning-a-view-versus-a-copy\n",
      "  df_ics[\"formula_result\"] = (df_ics[\"dfQuantity\"] - df_ics[\"actualQuantity\"]).abs() / df_ics[\"actualQuantity\"]\n"
     ]
    },
    {
     "name": "stdout",
     "output_type": "stream",
     "text": [
      "Average: 0.5688875272492314\n",
      "Mode: 0.5647774267163463\n",
      "Median: 0.5687568651941901\n"
     ]
    }
   ],
   "source": [
    "df_ics = df[df[\"partCodeId\"].str.len() > 7]\n",
    "df_ics[\"numberOfInstallationConditions\"] = df_ics[\"numberOfInstallationConditions\"].astype(int)\n",
    "df_ics[\"formula_result\"] = (df_ics[\"dfQuantity\"] - df_ics[\"actualQuantity\"]).abs() / df_ics[\"actualQuantity\"]\n",
    "# Group by the correct columns\n",
    "df_ics_result = df_ics.groupby([\n",
    "    \"partCodeId\",\n",
    "    \"vehicleModelId\"\n",
    "]).agg(\n",
    "    maxNumberOfInstallationConditions=(\"numberOfInstallationConditions\", \"max\"),\n",
    "    final_result=(\"formula_result\", \"mean\"),\n",
    ").reset_index()\n",
    "\n",
    "df_grouped_by_max_ics = df_ics_result.groupby(\"maxNumberOfInstallationConditions\")[\"final_result\"].median().reset_index()\n",
    "\n",
    "# Calculate statistics\n",
    "average = df_grouped_by_max_ics[\"final_result\"].mean()\n",
    "mode = df_grouped_by_max_ics[\"final_result\"].mode()[0]\n",
    "median = df_grouped_by_max_ics[\"final_result\"].median()\n",
    "\n",
    "print(f\"Average: {average}\")\n",
    "print(f\"Mode: {mode}\")\n",
    "print(f\"Median: {median}\")"
   ]
  },
  {
   "cell_type": "code",
   "execution_count": 107,
   "id": "e8388238",
   "metadata": {},
   "outputs": [
    {
     "data": {
      "image/png": "[encoded data removed]",
      "text/plain": [
       "<Figure size 1000x600 with 1 Axes>"
      ]
     },
     "metadata": {},
     "output_type": "display_data"
    }
   ],
   "source": [
    "#can I make a plot with all of the above dataframes? Plot the average, mode, and median for each of the dataframes\n",
    "\n",
    "df_list = [df_models_result, df_fullpc_result, df_nocolorpc_result, df_nocolornoindexpc_result, df_grouped_by_max_ics]\n",
    "df_names = [\"df_models\", \"df_fullpc\", \"df_nocolorpc\", \"df_nocolornoindexpc\", \"df_ics\"]\n",
    "df_statistics = pd.DataFrame(columns=[\"df_name\", \"median\"])\n",
    "for i, df in enumerate(df_list):\n",
    "    median = df[\"final_result\"].median()\n",
    "    df_statistics.loc[i] = [df_names[i], median]\n",
    "df_statistics = df_statistics.set_index(\"df_name\")\n",
    "df_statistics = df_statistics.reset_index()\n",
    "df_statistics = df_statistics.melt(id_vars=[\"df_name\"], var_name=\"statistic\", value_name=\"value\")\n",
    "plt.figure(figsize=(10, 6))\n",
    "seaborn.barplot(x=\"df_name\", y=\"value\", hue=\"statistic\", data=df_statistics)\n",
    "plt.title(\"Median of Final Result for Each DataFrame\")\n",
    "plt.xlabel(\"DataFrame\")\n",
    "plt.ylabel(\"Value\")\n",
    "plt.xticks(rotation=45)\n",
    "plt.legend(title=\"Statistic\")\n",
    "plt.tight_layout()\n",
    "plt.show()"
   ]
  }
 ],
 "metadata": {
  "kernelspec": {
   "display_name": "Python 3 (ipykernel)",
   "language": "python",
   "name": "python3"
  },
  "language_info": {
   "codemirror_mode": {
    "name": "ipython",
    "version": 3
   },
   "file_extension": ".py",
   "mimetype": "text/x-python",
   "name": "python",
   "nbconvert_exporter": "python",
   "pygments_lexer": "ipython3",
   "version": "3.11.9"
  }
 },
 "nbformat": 4,
 "nbformat_minor": 5
}
